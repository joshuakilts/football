{
 "cells": [
  {
   "cell_type": "code",
   "execution_count": 1,
   "metadata": {},
   "outputs": [],
   "source": [
    "import requests\n",
    "import json\n",
    "import pymongo\n",
    "import sys\n",
    "from time import sleep\n",
    "sys.path.append(\"..\")\n",
    "from creds.get_key import get_ffpros_key"
   ]
  },
  {
   "cell_type": "code",
   "execution_count": 2,
   "metadata": {},
   "outputs": [],
   "source": [
    "# api documentation here: https://api.fantasypros.com/public/v2/docs/#introduction\n",
    "api_key = get_ffpros_key()"
   ]
  },
  {
   "cell_type": "code",
   "execution_count": 3,
   "metadata": {},
   "outputs": [],
   "source": [
    "positions = ['QB', 'RB', 'WR', 'TE', 'K', 'DST']"
   ]
  },
  {
   "cell_type": "markdown",
   "metadata": {},
   "source": [
    "## PLAYERS"
   ]
  },
  {
   "cell_type": "code",
   "execution_count": 4,
   "metadata": {},
   "outputs": [],
   "source": [
    "url = 'https://api.fantasypros.com/public/v2/json/nfl/players'\n",
    "headers = {'x-api-key': api_key}\n",
    "response = requests.get(url, headers = headers)\n",
    "sleep(1)\n",
    "players = response.json()\n",
    "\n",
    "with open('../data/fantasypros/players/players.json', 'w') as f:\n",
    "    f.write(json.dumps(players))"
   ]
  },
  {
   "cell_type": "markdown",
   "metadata": {},
   "source": [
    "## CONSENSUS RANKINGS"
   ]
  },
  {
   "cell_type": "code",
   "execution_count": 5,
   "metadata": {},
   "outputs": [],
   "source": [
    "for position in positions:\n",
    "    url = 'https://api.fantasypros.com/public/v2/json/nfl/2021/consensus-rankings?experts=true&position={}'.format(position)\n",
    "    headers = {'x-api-key': api_key}\n",
    "    response = requests.get(url, headers = headers)\n",
    "    sleep(1)\n",
    "    consensus = response.json()\n",
    "    \n",
    "    with open('../data/fantasypros/consensus/{}.json'.format(position), 'w') as f:\n",
    "        f.write(json.dumps(consensus))"
   ]
  },
  {
   "cell_type": "markdown",
   "metadata": {},
   "source": [
    "## PROJECTIONS"
   ]
  },
  {
   "cell_type": "code",
   "execution_count": 6,
   "metadata": {},
   "outputs": [],
   "source": [
    "for position in positions:\n",
    "    url = 'https://api.fantasypros.com/public/v2/json/nfl/2021/projections?position={}'.format(position)\n",
    "    headers = {'x-api-key': api_key}\n",
    "    response = requests.get(url, headers = headers)\n",
    "    sleep(1)\n",
    "    projections = response.json()\n",
    "    \n",
    "    with open('../data/fantasypros/projections/{}.json'.format(position), 'w') as f:\n",
    "        f.write(json.dumps(projections))"
   ]
  }
 ],
 "metadata": {
  "kernelspec": {
   "display_name": "Python 3",
   "language": "python",
   "name": "python3"
  },
  "language_info": {
   "codemirror_mode": {
    "name": "ipython",
    "version": 3
   },
   "file_extension": ".py",
   "mimetype": "text/x-python",
   "name": "python",
   "nbconvert_exporter": "python",
   "pygments_lexer": "ipython3",
   "version": "3.7.4"
  }
 },
 "nbformat": 4,
 "nbformat_minor": 4
}
