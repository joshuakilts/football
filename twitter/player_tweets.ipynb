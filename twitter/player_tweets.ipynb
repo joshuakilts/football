{
 "cells": [
  {
   "cell_type": "code",
   "execution_count": 1,
   "metadata": {},
   "outputs": [],
   "source": [
    "import tweepy\n",
    "import json\n",
    "import sys\n",
    "sys.path.append(\"..\")\n",
    "import pandas as pd\n",
    "from time import sleep\n",
    "from creds.twitter_creds import twitter_creds\n",
    "\n",
    "consumer_key, consumer_secret, access_token, access_token_secret = twitter_creds\n",
    "\n",
    "auth = tweepy.OAuthHandler(consumer_key, consumer_secret)\n",
    "auth.set_access_token(access_token, access_token_secret)\n",
    "api = tweepy.API(auth)"
   ]
  },
  {
   "cell_type": "code",
   "execution_count": 2,
   "metadata": {},
   "outputs": [],
   "source": [
    "# get player names\n",
    "with open('../data/fantasypros/players/players.json', 'r') as f:\n",
    "    players = json.loads(f.read())"
   ]
  },
  {
   "cell_type": "code",
   "execution_count": 3,
   "metadata": {},
   "outputs": [],
   "source": [
    "search_terms = []\n",
    "for player in players['players']:\n",
    "    if player['position_id'] == 'DST':\n",
    "        search_terms.append([player['player_id'], player['player_name'] + ' dst'])\n",
    "        search_terms.append([player['player_id'], player['player_name'] + ' defense'])\n",
    "    else:\n",
    "        search_terms.append([player['player_id'], player['player_name']])"
   ]
  },
  {
   "cell_type": "code",
   "execution_count": null,
   "metadata": {},
   "outputs": [],
   "source": [
    "parsed_records = []\n",
    "completed_searches = []\n",
    "counter = 0\n",
    "for p_id, p_name in search_terms:\n",
    "    for page in tweepy.Cursor(api.search, q = p_name, count = 100, result_type = 'recent', tweet_mode = 'extended').pages():\n",
    "        for result in page:\n",
    "            result = result._json\n",
    "            parsed_record = [result['created_at'], result['id_str'], result['full_text'], result['retweet_count'], result['favorite_count'], p_id]\n",
    "            parsed_records.append(parsed_record)\n",
    "\n",
    "            sleep(1)\n",
    "\n",
    "    completed_searches.append([p_id, p_name])\n",
    "    \n",
    "    counter += 1\n",
    "    if counter % 10 == 0:\n",
    "        print('{}/{}'.format(counter, len(search_terms)))\n",
    "    \n",
    "    \n",
    "    \n"
   ]
  },
  {
   "cell_type": "code",
   "execution_count": null,
   "metadata": {},
   "outputs": [],
   "source": [
    "pd.DataFrame(parsed_records, columns = ['created', 'id_str', 'body', 'retweets', 'favorites', 'p_id']).to_csv('../data/twitter/tweets.csv', index = False)"
   ]
  }
 ],
 "metadata": {
  "kernelspec": {
   "display_name": "Python 3",
   "language": "python",
   "name": "python3"
  },
  "language_info": {
   "codemirror_mode": {
    "name": "ipython",
    "version": 3
   },
   "file_extension": ".py",
   "mimetype": "text/x-python",
   "name": "python",
   "nbconvert_exporter": "python",
   "pygments_lexer": "ipython3",
   "version": "3.7.4"
  }
 },
 "nbformat": 4,
 "nbformat_minor": 4
}
