{
 "cells": [
  {
   "cell_type": "code",
   "execution_count": 1,
   "metadata": {},
   "outputs": [],
   "source": [
    "import psaw\n",
    "import json\n",
    "import re\n",
    "from datetime import datetime"
   ]
  },
  {
   "cell_type": "code",
   "execution_count": 2,
   "metadata": {},
   "outputs": [],
   "source": [
    "# get player names & create list of terms to search for\n",
    "with open('../data/fantasypros/players/players.json', 'r') as f:\n",
    "    players = json.loads(f.read())\n",
    "    \n",
    "players_list = []\n",
    "for player in players['players']:\n",
    "    if player['position_id'] == 'DST':\n",
    "        players_list.append([player['player_id'], player['player_name'] + ' dst'])\n",
    "        players_list.append([player['player_id'], player['player_name'] + ' defense'])\n",
    "    else:\n",
    "        players_list.append([player['player_id'], player['player_name']])\n",
    "\n",
    "\n",
    "# breaks a list into chunks of size n\n",
    "def partition_list(list_in, n):\n",
    "    list_out = []\n",
    "    for i in range(0, len(list_in), n):\n",
    "        list_out.append(list_in[i:i+n])\n",
    "    \n",
    "    return list_out\n",
    "\n",
    "\n",
    "# break players list into chunks of 100 (reddit api only takes 100 at a time)\n",
    "players_lists = partition_list(players_list, 100)\n",
    "search_queries = []\n",
    "for chunk in players_lists:\n",
    "    \n",
    "    chunk = [x[1] for x in chunk]\n",
    "    search_query = '|'.join(chunk)\n",
    "    search_queries.append(search_query)"
   ]
  },
  {
   "cell_type": "code",
   "execution_count": 3,
   "metadata": {},
   "outputs": [
    {
     "name": "stdout",
     "output_type": "stream",
     "text": [
      "0/58\n",
      "5/58\n"
     ]
    },
    {
     "name": "stderr",
     "output_type": "stream",
     "text": [
      "C:\\Users\\josh.kilts\\AppData\\Local\\Continuum\\anaconda3\\lib\\site-packages\\psaw\\PushshiftAPI.py:192: UserWarning: Got non 200 code 429\n",
      "  warnings.warn(\"Got non 200 code %s\" % response.status_code)\n",
      "C:\\Users\\josh.kilts\\AppData\\Local\\Continuum\\anaconda3\\lib\\site-packages\\psaw\\PushshiftAPI.py:180: UserWarning: Unable to connect to pushshift.io. Retrying after backoff.\n",
      "  warnings.warn(\"Unable to connect to pushshift.io. Retrying after backoff.\")\n"
     ]
    },
    {
     "name": "stdout",
     "output_type": "stream",
     "text": [
      "10/58\n",
      "15/58\n",
      "20/58\n",
      "25/58\n",
      "30/58\n",
      "35/58\n",
      "40/58\n",
      "45/58\n",
      "50/58\n",
      "55/58\n"
     ]
    }
   ],
   "source": [
    "# set list of subreddits to search\n",
    "subreddits = ['fantasyfootball', 'nfl']\n",
    "subreddit_query = ','.join(subreddits)\n",
    "\n",
    "# set date to search after\n",
    "after = int(datetime(2021, 8, 4).timestamp())\n",
    "\n",
    "\n",
    "# walk through search queries and find all submissions/comments\n",
    "submissions = []\n",
    "comments = []\n",
    "counter = 0\n",
    "for search_query in search_queries:\n",
    "    \n",
    "    if counter % 5 == 0:\n",
    "        print('{}/{}'.format(counter, len(search_queries)))\n",
    "    counter += 1\n",
    "    \n",
    "    api = psaw.PushshiftAPI()\n",
    "    sub_gen = api.search_submissions(\n",
    "        q = search_query,\n",
    "        subreddit = subreddit_query,\n",
    "        after = after,\n",
    "        filter=['author', 'selftext', 'title', 'created_utc', 'score', 'subreddit', 'id']\n",
    "    )    \n",
    "    \n",
    "    caches = []\n",
    "    for cache in sub_gen:\n",
    "        caches.append(cache)\n",
    "    \n",
    "    if len(caches) > 0:\n",
    "\n",
    "        for cache in caches:\n",
    "            dict_idx = len(cache) - 1\n",
    "            temp_dict = cache[dict_idx]\n",
    "\n",
    "            if isinstance(temp_dict, dict):\n",
    "\n",
    "                submissions.append(temp_dict)\n",
    "                \n",
    "            else:\n",
    "                print('Not dict, type is {}'.format(type(temp_dict)))\n",
    "                \n",
    "    else:\n",
    "        pass\n",
    "\n",
    "\n",
    "    com_gen = api.search_comments(\n",
    "        q = search_query,\n",
    "        subreddit = subreddit_query,\n",
    "        after = after,\n",
    "        filter=['author', 'body', 'title', 'created_utc', 'score', 'subreddit', 'link_id']\n",
    "    )\n",
    "\n",
    "    caches = []\n",
    "    for cache in com_gen:\n",
    "        caches.append(cache)\n",
    "\n",
    "    if len(caches) > 0:\n",
    "\n",
    "        for cache in caches:\n",
    "            dict_idx = len(cache) - 1\n",
    "            temp_dict = cache[dict_idx]\n",
    "\n",
    "            if isinstance(temp_dict, dict):\n",
    "                \n",
    "                comments.append(temp_dict)\n",
    "            \n",
    "            else:\n",
    "                print('Not dict, type is {}'.format(type(temp_dict)))\n",
    "\n",
    "    else:\n",
    "        pass"
   ]
  },
  {
   "cell_type": "code",
   "execution_count": 4,
   "metadata": {},
   "outputs": [],
   "source": [
    "player_names = [x[1] for x in players_list]\n",
    "\n",
    "\n",
    "submissions_t = []\n",
    "for submission in submissions:\n",
    "    \n",
    "    body = submission['selftext'] + ' ' + submission['title']\n",
    "    \n",
    "    players_found = [player for player in player_names if player.lower() in body.lower()]\n",
    "        \n",
    "    submission['players'] = players_found\n",
    "    \n",
    "    submissions_t.append(submission)\n",
    "\n",
    "\n",
    "comments_t = []\n",
    "for comment in comments:\n",
    "    \n",
    "    body = comment['body']\n",
    "    \n",
    "    players_found = [player for player in player_names if player.lower() in body.lower()]\n",
    "        \n",
    "    comment['players'] = players_found\n",
    "    \n",
    "    comments_t.append(comment)"
   ]
  },
  {
   "cell_type": "code",
   "execution_count": 5,
   "metadata": {},
   "outputs": [],
   "source": [
    "with open('../data/reddit/reddit_submissions.json', 'w') as f:\n",
    "    json.dump(submissions_t, f)\n",
    "\n",
    "with open('../data/reddit/reddit_comments.json', 'w') as f:\n",
    "    json.dump(comments_t, f)"
   ]
  }
 ],
 "metadata": {
  "kernelspec": {
   "display_name": "Python 3",
   "language": "python",
   "name": "python3"
  },
  "language_info": {
   "codemirror_mode": {
    "name": "ipython",
    "version": 3
   },
   "file_extension": ".py",
   "mimetype": "text/x-python",
   "name": "python",
   "nbconvert_exporter": "python",
   "pygments_lexer": "ipython3",
   "version": "3.7.4"
  }
 },
 "nbformat": 4,
 "nbformat_minor": 4
}
